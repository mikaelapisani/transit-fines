{
 "cells": [
  {
   "cell_type": "code",
   "execution_count": 1,
   "metadata": {},
   "outputs": [],
   "source": [
    "# Public data from Uruguay: Transit fines\n",
    "# https://catalogodatos.gub.uy/dataset/multas-transito/resource/3a927dca-1744-4ec0-9787-647b4669e4aa?inner_span=True\n",
    "\n",
    "# Files: \n",
    "# multasYYYY.csv        : information of fines\n",
    "# ordenanza.csv         : orders (type of fine)\n",
    "# tipos_de_vehiculo.csv : mapping of type of vehicle\n",
    "\n",
    "\n",
    "# Clean data\n",
    "# ----------\n",
    "# Replace NA values by ''\n",
    "# Join all the fine files in one dataFrame\n",
    "# Add column year: extracted from file name\n",
    "# Format date\n",
    "# add column hour\n",
    "\n",
    "# Functions\n",
    "# ---------\n",
    "# Process and clean data: process_data_fine, process_data_order, process_cartype, process_data\n",
    "# One function for each question\n",
    "\n",
    "# Questions\n",
    "# ---------\n",
    "# Does the season affects infractions?\n",
    "# Does the hour affects infractions?\n",
    "# Does the day of the week affects infractions?\n",
    "# Does the location affects infractions?\n",
    "# Does the type of car affects infractions?\n",
    "# What is the correlation between the hour and the location?\n",
    "# What is the relation between the day and the hour?\n"
   ]
  },
  {
   "cell_type": "code",
   "execution_count": 2,
   "metadata": {},
   "outputs": [],
   "source": [
    "import os\n",
    "import re\n",
    "import pandas as pd\n",
    "import csv\n",
    "import numpy as np\n",
    "import matplotlib.pyplot as plt\n",
    "import seaborn as sns\n",
    "\n",
    "COLUMNS_CSV=['Order','Article','Section','Date','Street','Corner','CarType']\n",
    "COLUMNS=['Order','Article','Section','Date','Street','Corner','CarType', 'Year']\n",
    "dayOfWeek={0:'Monday', 1:'Tuesday', 2:'Wednesday', 3:'Thursday', 4:'Friday', 5:'Saturday', 6:'Sunday'}"
   ]
  },
  {
   "cell_type": "code",
   "execution_count": 3,
   "metadata": {},
   "outputs": [
    {
     "data": {
      "text/html": [
       "<div>\n",
       "<style scoped>\n",
       "    .dataframe tbody tr th:only-of-type {\n",
       "        vertical-align: middle;\n",
       "    }\n",
       "\n",
       "    .dataframe tbody tr th {\n",
       "        vertical-align: top;\n",
       "    }\n",
       "\n",
       "    .dataframe thead th {\n",
       "        text-align: right;\n",
       "    }\n",
       "</style>\n",
       "<table border=\"1\" class=\"dataframe\">\n",
       "  <thead>\n",
       "    <tr style=\"text-align: right;\">\n",
       "      <th></th>\n",
       "      <th>0</th>\n",
       "      <th>1</th>\n",
       "      <th>2</th>\n",
       "      <th>3</th>\n",
       "      <th>4</th>\n",
       "      <th>5</th>\n",
       "      <th>6</th>\n",
       "    </tr>\n",
       "  </thead>\n",
       "  <tbody>\n",
       "    <tr>\n",
       "      <th>0</th>\n",
       "      <td>Ordenanza</td>\n",
       "      <td>Articulo</td>\n",
       "      <td>Apartado</td>\n",
       "      <td>Fecha</td>\n",
       "      <td>Calle</td>\n",
       "      <td>Calle_esquina</td>\n",
       "      <td>Tipo_vehiculo</td>\n",
       "    </tr>\n",
       "    <tr>\n",
       "      <th>1</th>\n",
       "      <td>1</td>\n",
       "      <td>140</td>\n",
       "      <td>BM</td>\n",
       "      <td>01/01/2006 01:59</td>\n",
       "      <td>4956</td>\n",
       "      <td>6135</td>\n",
       "      <td>65</td>\n",
       "    </tr>\n",
       "    <tr>\n",
       "      <th>2</th>\n",
       "      <td>8</td>\n",
       "      <td>23</td>\n",
       "      <td>1</td>\n",
       "      <td>01/01/2006 09:49</td>\n",
       "      <td>4956</td>\n",
       "      <td>6315</td>\n",
       "      <td></td>\n",
       "    </tr>\n",
       "    <tr>\n",
       "      <th>3</th>\n",
       "      <td>1</td>\n",
       "      <td>8</td>\n",
       "      <td>1</td>\n",
       "      <td>01/01/2006 10:20</td>\n",
       "      <td>4956</td>\n",
       "      <td>6315</td>\n",
       "      <td>62</td>\n",
       "    </tr>\n",
       "    <tr>\n",
       "      <th>4</th>\n",
       "      <td>8</td>\n",
       "      <td>23</td>\n",
       "      <td>1</td>\n",
       "      <td>01/01/2006 16:03</td>\n",
       "      <td>5973</td>\n",
       "      <td>6600</td>\n",
       "      <td></td>\n",
       "    </tr>\n",
       "  </tbody>\n",
       "</table>\n",
       "</div>"
      ],
      "text/plain": [
       "           0         1         2                 3      4              5  \\\n",
       "0  Ordenanza  Articulo  Apartado             Fecha  Calle  Calle_esquina   \n",
       "1          1       140        BM  01/01/2006 01:59   4956           6135   \n",
       "2          8        23         1  01/01/2006 09:49   4956           6315   \n",
       "3          1         8         1  01/01/2006 10:20   4956           6315   \n",
       "4          8        23         1  01/01/2006 16:03   5973           6600   \n",
       "\n",
       "               6  \n",
       "0  Tipo_vehiculo  \n",
       "1            65   \n",
       "2                 \n",
       "3         62      \n",
       "4                 "
      ]
     },
     "execution_count": 3,
     "metadata": {},
     "output_type": "execute_result"
    }
   ],
   "source": [
    "#show original data\n",
    "data_fines = pd.read_csv(\"multas2006.csv\", sep=',', header = None, low_memory=False)\n",
    "data_fines.head()"
   ]
  },
  {
   "cell_type": "code",
   "execution_count": 4,
   "metadata": {},
   "outputs": [
    {
     "data": {
      "text/html": [
       "<div>\n",
       "<style scoped>\n",
       "    .dataframe tbody tr th:only-of-type {\n",
       "        vertical-align: middle;\n",
       "    }\n",
       "\n",
       "    .dataframe tbody tr th {\n",
       "        vertical-align: top;\n",
       "    }\n",
       "\n",
       "    .dataframe thead th {\n",
       "        text-align: right;\n",
       "    }\n",
       "</style>\n",
       "<table border=\"1\" class=\"dataframe\">\n",
       "  <thead>\n",
       "    <tr style=\"text-align: right;\">\n",
       "      <th></th>\n",
       "      <th>0</th>\n",
       "      <th>1</th>\n",
       "      <th>2</th>\n",
       "      <th>3</th>\n",
       "      <th>4</th>\n",
       "      <th>5</th>\n",
       "    </tr>\n",
       "  </thead>\n",
       "  <tbody>\n",
       "    <tr>\n",
       "      <th>0</th>\n",
       "      <td>orde_id</td>\n",
       "      <td>articulo</td>\n",
       "      <td>apartado</td>\n",
       "      <td>descripcion</td>\n",
       "      <td>importe</td>\n",
       "      <td>fecha_baja</td>\n",
       "    </tr>\n",
       "    <tr>\n",
       "      <th>1</th>\n",
       "      <td>1</td>\n",
       "      <td>2</td>\n",
       "      <td>NaN</td>\n",
       "      <td>DESOBEDIENCIA A LAS DISPOSICIONES (D.539)</td>\n",
       "      <td>1.4841</td>\n",
       "      <td>NaN</td>\n",
       "    </tr>\n",
       "    <tr>\n",
       "      <th>2</th>\n",
       "      <td>1</td>\n",
       "      <td>3</td>\n",
       "      <td>NaN</td>\n",
       "      <td>DESOBEDIENCIA A SEÑALIZACIÓN (D.540)</td>\n",
       "      <td>1.4841</td>\n",
       "      <td>NaN</td>\n",
       "    </tr>\n",
       "    <tr>\n",
       "      <th>3</th>\n",
       "      <td>1</td>\n",
       "      <td>4</td>\n",
       "      <td>B</td>\n",
       "      <td>VEHÍCULO CIRCULANDO POR LA ACERA (D.541)</td>\n",
       "      <td>4</td>\n",
       "      <td>NaN</td>\n",
       "    </tr>\n",
       "    <tr>\n",
       "      <th>4</th>\n",
       "      <td>1</td>\n",
       "      <td>5</td>\n",
       "      <td>A</td>\n",
       "      <td>VEHÍCULOS: USO INDEBIDO DE LAS ACERAS NO DAR P...</td>\n",
       "      <td>4</td>\n",
       "      <td>NaN</td>\n",
       "    </tr>\n",
       "  </tbody>\n",
       "</table>\n",
       "</div>"
      ],
      "text/plain": [
       "         0         1         2  \\\n",
       "0  orde_id  articulo  apartado   \n",
       "1        1         2       NaN   \n",
       "2        1         3       NaN   \n",
       "3        1         4         B   \n",
       "4        1         5         A   \n",
       "\n",
       "                                                   3        4           5  \n",
       "0                                        descripcion  importe  fecha_baja  \n",
       "1          DESOBEDIENCIA A LAS DISPOSICIONES (D.539)   1.4841         NaN  \n",
       "2               DESOBEDIENCIA A SEÑALIZACIÓN (D.540)   1.4841         NaN  \n",
       "3           VEHÍCULO CIRCULANDO POR LA ACERA (D.541)        4         NaN  \n",
       "4  VEHÍCULOS: USO INDEBIDO DE LAS ACERAS NO DAR P...        4         NaN  "
      ]
     },
     "execution_count": 4,
     "metadata": {},
     "output_type": "execute_result"
    }
   ],
   "source": [
    "data_orders = pd.read_csv(\"ordenanza.csv\", sep=',', header = None, low_memory=False)\n",
    "data_orders.head()"
   ]
  },
  {
   "cell_type": "code",
   "execution_count": 5,
   "metadata": {},
   "outputs": [
    {
     "data": {
      "text/html": [
       "<div>\n",
       "<style scoped>\n",
       "    .dataframe tbody tr th:only-of-type {\n",
       "        vertical-align: middle;\n",
       "    }\n",
       "\n",
       "    .dataframe tbody tr th {\n",
       "        vertical-align: top;\n",
       "    }\n",
       "\n",
       "    .dataframe thead th {\n",
       "        text-align: right;\n",
       "    }\n",
       "</style>\n",
       "<table border=\"1\" class=\"dataframe\">\n",
       "  <thead>\n",
       "    <tr style=\"text-align: right;\">\n",
       "      <th></th>\n",
       "      <th>0</th>\n",
       "      <th>1</th>\n",
       "    </tr>\n",
       "  </thead>\n",
       "  <tbody>\n",
       "    <tr>\n",
       "      <th>0</th>\n",
       "      <td>Código</td>\n",
       "      <td>Nombre</td>\n",
       "    </tr>\n",
       "    <tr>\n",
       "      <th>1</th>\n",
       "      <td>1</td>\n",
       "      <td>SEDAN</td>\n",
       "    </tr>\n",
       "    <tr>\n",
       "      <th>2</th>\n",
       "      <td>2</td>\n",
       "      <td>SEDAN 2 PUERTAS</td>\n",
       "    </tr>\n",
       "    <tr>\n",
       "      <th>3</th>\n",
       "      <td>3</td>\n",
       "      <td>SEDAN 4 PUERTAS</td>\n",
       "    </tr>\n",
       "    <tr>\n",
       "      <th>4</th>\n",
       "      <td>4</td>\n",
       "      <td>CONVERTIBLE</td>\n",
       "    </tr>\n",
       "  </tbody>\n",
       "</table>\n",
       "</div>"
      ],
      "text/plain": [
       "        0                1\n",
       "0  Código           Nombre\n",
       "1       1            SEDAN\n",
       "2       2  SEDAN 2 PUERTAS\n",
       "3       3  SEDAN 4 PUERTAS\n",
       "4       4      CONVERTIBLE"
      ]
     },
     "execution_count": 5,
     "metadata": {},
     "output_type": "execute_result"
    }
   ],
   "source": [
    "data_cars = pd.read_csv(\"tipos_de_vehiculo.csv\", sep=',', header = None, low_memory=False)\n",
    "data_cars.head()"
   ]
  },
  {
   "cell_type": "code",
   "execution_count": 3,
   "metadata": {},
   "outputs": [],
   "source": [
    "#auxiliar functions to clear and process the data\n",
    "\n",
    "def process_data_fine(file, year):\n",
    "    car_fines = pd.read_csv(file, sep=',', header = None, low_memory=False) #read csv file\n",
    "    car_fines.columns=COLUMNS_CSV  #set column names\n",
    "    car_fines = car_fines.assign(Year=year) #add year column\n",
    "    car_fines = car_fines.drop(0)  #drop the first column, it is the header\n",
    "    #modify columns, add NaN if the value is empty\n",
    "    car_fines['Order']= np.where(car_fines['Order'].str.strip()=='',np.nan, car_fines['Order'])\n",
    "    car_fines['Article']= np.where(car_fines['Article'].str.strip()=='',np.nan, car_fines['Article'])\n",
    "    car_fines['Section']= np.where(car_fines['Section'].str.strip()=='.', np.nan, car_fines['Section'])\n",
    "    car_fines['Date'] = pd.to_datetime(car_fines['Date'])\n",
    "    car_fines['Hour'] = car_fines['Date'].dt.hour\n",
    "    car_fines['Corner']= np.where(car_fines['Corner'].str.strip()=='',np.nan, car_fines['Corner'])\n",
    "    car_fines['CarType']= np.where(car_fines['CarType'].str.strip()=='',np.nan, car_fines['CarType'])\n",
    "    return car_fines\n",
    "\n",
    "#process the information of orders\n",
    "def process_data_order(file): \n",
    "    orders = pd.read_csv(file, sep=',', header = None, low_memory=False) #read csv file\n",
    "    orders = orders.drop(5, axis=1)\n",
    "    orders.columns = [\"order_id\",\"article\",\"section\",\"description\",\"price\"]\n",
    "    orders=orders.drop(0)\n",
    "    \n",
    "    orders['price'] = orders['price'].apply(float)\n",
    "    return orders\n",
    "\n",
    "#process car type information\n",
    "def process_cartype(file):\n",
    "    car_types = pd.read_csv(file, sep=',', header = None, low_memory=False) #read csv file\n",
    "    car_types.columns = [\"code\",\"name\"]\n",
    "    car_types = car_types.drop(0) #delete first column, it is the header\n",
    "    return car_types\n",
    "\n",
    "\n",
    "def process_data():\n",
    "    # for each file, add data to dataframe df\n",
    "    # the year is in the name of the file\n",
    "    df = pd.DataFrame(columns=COLUMNS)\n",
    "    files = os.listdir()\n",
    "    for file in files:\n",
    "        prog = re.compile('multas(\\d{4}).csv')\n",
    "        result = prog.match(file)\n",
    "        if (result): # it is multasYYYY.csv \n",
    "            year = int(result.group(1))\n",
    "            file_data = process_data_fine(file,year)\n",
    "            df = pd.concat([df, file_data], sort=False, ignore_index=True) #add data frame to df\n",
    "        elif (file=='ordenanza.csv'):\n",
    "            orders=process_data_order(file)\n",
    "        elif (file=='tipos_de_vehiculo.csv'):\n",
    "            car_types=process_cartype(file)\n",
    "    \n",
    "    return (df, orders, car_types)\n"
   ]
  },
  {
   "cell_type": "code",
   "execution_count": 4,
   "metadata": {},
   "outputs": [
    {
     "data": {
      "text/html": [
       "<div>\n",
       "<style scoped>\n",
       "    .dataframe tbody tr th:only-of-type {\n",
       "        vertical-align: middle;\n",
       "    }\n",
       "\n",
       "    .dataframe tbody tr th {\n",
       "        vertical-align: top;\n",
       "    }\n",
       "\n",
       "    .dataframe thead th {\n",
       "        text-align: right;\n",
       "    }\n",
       "</style>\n",
       "<table border=\"1\" class=\"dataframe\">\n",
       "  <thead>\n",
       "    <tr style=\"text-align: right;\">\n",
       "      <th></th>\n",
       "      <th>Order</th>\n",
       "      <th>Article</th>\n",
       "      <th>Section</th>\n",
       "      <th>Date</th>\n",
       "      <th>Street</th>\n",
       "      <th>Corner</th>\n",
       "      <th>CarType</th>\n",
       "      <th>Year</th>\n",
       "      <th>Hour</th>\n",
       "    </tr>\n",
       "  </thead>\n",
       "  <tbody>\n",
       "    <tr>\n",
       "      <th>0</th>\n",
       "      <td>1</td>\n",
       "      <td>110</td>\n",
       "      <td>A</td>\n",
       "      <td>2009-01-01 14:45:00</td>\n",
       "      <td>4467</td>\n",
       "      <td>7572</td>\n",
       "      <td>NaN</td>\n",
       "      <td>2009</td>\n",
       "      <td>14.0</td>\n",
       "    </tr>\n",
       "    <tr>\n",
       "      <th>1</th>\n",
       "      <td>1</td>\n",
       "      <td>106</td>\n",
       "      <td>NaN</td>\n",
       "      <td>2009-01-01 15:40:00</td>\n",
       "      <td>1010</td>\n",
       "      <td>2562</td>\n",
       "      <td>3</td>\n",
       "      <td>2009</td>\n",
       "      <td>15.0</td>\n",
       "    </tr>\n",
       "    <tr>\n",
       "      <th>2</th>\n",
       "      <td>1</td>\n",
       "      <td>103</td>\n",
       "      <td>2</td>\n",
       "      <td>2009-02-01 08:40:00</td>\n",
       "      <td>957</td>\n",
       "      <td>3936</td>\n",
       "      <td>13</td>\n",
       "      <td>2009</td>\n",
       "      <td>8.0</td>\n",
       "    </tr>\n",
       "  </tbody>\n",
       "</table>\n",
       "</div>"
      ],
      "text/plain": [
       "  Order Article Section                Date Street Corner CarType  Year  Hour\n",
       "0     1     110       A 2009-01-01 14:45:00   4467   7572     NaN  2009  14.0\n",
       "1     1     106     NaN 2009-01-01 15:40:00   1010   2562    3     2009  15.0\n",
       "2     1     103       2 2009-02-01 08:40:00    957   3936   13     2009   8.0"
      ]
     },
     "execution_count": 4,
     "metadata": {},
     "output_type": "execute_result"
    }
   ],
   "source": [
    "# clear and process data\n",
    "(df, orders, car_types) = process_data()\n",
    "df.head(3)"
   ]
  },
  {
   "cell_type": "code",
   "execution_count": 8,
   "metadata": {},
   "outputs": [
    {
     "data": {
      "image/png": "[encoded data removed]",
      "text/plain": [
       "<Figure size 432x288 with 1 Axes>"
      ]
     },
     "metadata": {},
     "output_type": "display_data"
    }
   ],
   "source": [
    "#Does the hour affects infractions?\n",
    "def amount_fines_per_hour(df):\n",
    "    data_by_hour = df[['Hour']].copy()\n",
    "    data_by_hour = data_by_hour.groupby('Hour').size()\n",
    "    return data_by_hour\n",
    "\n",
    "fines_per_hour = amount_fines_per_hour(df)\n",
    "fines_per_hour\n",
    "plt.figure()\n",
    "fines_per_hour.plot(kind='bar')\n",
    "plt.xlabel('Hour')\n",
    "plt.ylabel('Amount of fines')\n",
    "plt.title('Amont of fines per hour')\n",
    "plt.xticks(range(24), ['0am','1am','2am','3am','4am','5am','6am','7am','8am','9am','10am','11am','12am',\n",
    "           '1pm','2pm','3pm','4pm','5pm','6pm','7pm','8pm','9pm','10pm','11pm'])\n",
    "plt.show()\n",
    "# We can see that around 5pm there are more fines. (Rush hour)"
   ]
  },
  {
   "cell_type": "code",
   "execution_count": 9,
   "metadata": {},
   "outputs": [
    {
     "data": {
      "image/png": "[encoded data removed]",
      "text/plain": [
       "<Figure size 432x288 with 1 Axes>"
      ]
     },
     "metadata": {},
     "output_type": "display_data"
    }
   ],
   "source": [
    "#Does the season affects infractions?\n",
    "def mapping_month_season(month):\n",
    "    if (month in [12,1,2]):\n",
    "        return 'Summer'\n",
    "    elif (month in [3,4,5]):\n",
    "        return 'Autum'\n",
    "    elif (month in [6,7,8]):\n",
    "        return 'Winter'\n",
    "    else:\n",
    "        return 'Spring'\n",
    "    \n",
    "\n",
    "# mapping seasons\n",
    "# spring begins on 1 September\n",
    "# summer on 1 December\n",
    "# autumn on 1 March\n",
    "# winter on 1 June.\n",
    "def amount_fines_per_season(df):\n",
    "    data_by_month = df[['Date']].copy()\n",
    "    data_by_month['Date'] = pd.to_datetime(data_by_month['Date']).dt.month\n",
    "    data_by_month['Date'] = data_by_month['Date'].apply(mapping_month_season)\n",
    "    data_by_month = data_by_month.groupby('Date')\n",
    "    data_by_month = data_by_month.size()\n",
    "    return data_by_month\n",
    "\n",
    "fines_per_season = amount_fines_per_season(df)\n",
    "plt.figure()\n",
    "fines_per_season.plot(kind='bar')\n",
    "plt.xlabel('Season')\n",
    "plt.ylabel('Amount of fines')\n",
    "plt.title('Amont of fines per season')\n",
    "plt.show()\n",
    "# We can see that during the summer there are less fines. \n",
    "# It might becase the people do not stay at the city. So there are less people, less fines."
   ]
  },
  {
   "cell_type": "code",
   "execution_count": 10,
   "metadata": {},
   "outputs": [
    {
     "data": {
      "image/png": "[encoded data removed]",
      "text/plain": [
       "<Figure size 432x288 with 1 Axes>"
      ]
     },
     "metadata": {},
     "output_type": "display_data"
    }
   ],
   "source": [
    "#Does the location affects infractions?\n",
    "def amount_fines_by_location(df):\n",
    "    street_corner = df[['Street', 'Corner']].copy()\n",
    "    street_corner = street_corner.groupby(['Street', 'Corner']).size()\n",
    "    return street_corner\n",
    "\n",
    "fines_by_location = amount_fines_by_location(df)\n",
    "location_10 = fines_by_location.nlargest(10)\n",
    "plt.figure()\n",
    "location_10.plot(kind='barh')\n",
    "plt.ylabel('Location')\n",
    "plt.xlabel('Amount of fines')\n",
    "plt.title('Amont of fines per location')\n",
    "plt.show()\n",
    "#We see that most of the fines are at one location, there might be a problem there"
   ]
  },
  {
   "cell_type": "code",
   "execution_count": 11,
   "metadata": {},
   "outputs": [
    {
     "data": {
      "image/png": "[encoded data removed]",
      "text/plain": [
       "<Figure size 432x288 with 1 Axes>"
      ]
     },
     "metadata": {},
     "output_type": "display_data"
    }
   ],
   "source": [
    "#Does the day of the week affects infractions?\n",
    "def amount_fines_per_day_week(df):\n",
    "    data_day = df[['Date']].copy()\n",
    "    data_day['Day'] = pd.to_datetime(data_day['Date']).dt.dayofweek.map(dayOfWeek)\n",
    "    data_day = data_day.groupby(['Day']).size()\n",
    "    return data_day \n",
    "\n",
    "fines_per_day_week = amount_fines_per_day_week(df)\n",
    "fig1, ax1 = plt.subplots()\n",
    "ax1.pie(fines_per_day_week, labels = list(fines_per_day_week.index), autopct='%1.1f%%')\n",
    "ax1.axis('equal')\n",
    "plt.title('Percentage of fines per week day')\n",
    "plt.show()\n",
    "#It is almost the same percentage for each day"
   ]
  },
  {
   "cell_type": "code",
   "execution_count": 12,
   "metadata": {},
   "outputs": [
    {
     "data": {
      "image/png": "[encoded data removed]",
      "text/plain": [
       "<Figure size 432x288 with 1 Axes>"
      ]
     },
     "metadata": {},
     "output_type": "display_data"
    }
   ],
   "source": [
    "#Does the type of vehicle affects infractions?\n",
    "def amount_fines_by_car_type(df, car_types):\n",
    "    car_type_data = df[['CarType']].copy()\n",
    "    join_data = car_type_data.set_index('CarType').join(car_types.set_index('code'))\n",
    "    join_data = join_data.groupby(['name']).size()\n",
    "    return join_data\n",
    "\n",
    "fines_by_car_type = amount_fines_by_car_type(df, car_types)\n",
    "fines_by_car_type_10 = fines_by_car_type.nlargest(10)\n",
    "plt.figure()\n",
    "fines_by_car_type_10.plot(kind='bar')\n",
    "plt.ylabel('Car Type')\n",
    "plt.xlabel('Amount of fines')\n",
    "plt.title('Amont of fines per vehicle type')\n",
    "plt.show()"
   ]
  },
  {
   "cell_type": "code",
   "execution_count": 13,
   "metadata": {},
   "outputs": [
    {
     "data": {
      "image/png": "[encoded data removed]",
      "text/plain": [
       "<Figure size 432x432 with 3 Axes>"
      ]
     },
     "metadata": {},
     "output_type": "display_data"
    },
    {
     "name": "stdout",
     "output_type": "stream",
     "text": [
      "-0.021057410312145444\n"
     ]
    }
   ],
   "source": [
    "#What is the correlation between the hour and the location?\n",
    "df['Street'] = df['Street'].apply(int)\n",
    "sns.jointplot(x='Hour',y='Street',data=df)\n",
    "plt.show()\n",
    "print(df['Hour'].corr(df['Street']))\n",
    "#From the greaph I can conclude that there is no correlation between the two variables, or it is very low"
   ]
  },
  {
   "cell_type": "code",
   "execution_count": 5,
   "metadata": {},
   "outputs": [],
   "source": [
    "#What is the relation between the day and the hour?\n",
    "df['Day'] = pd.to_datetime(df['Date']).dt.dayofweek.map(dayOfWeek)"
   ]
  },
  {
   "cell_type": "code",
   "execution_count": 6,
   "metadata": {},
   "outputs": [
    {
     "data": {
      "text/plain": [
       "<matplotlib.axes._subplots.AxesSubplot at 0x1a36ca1550>"
      ]
     },
     "execution_count": 6,
     "metadata": {},
     "output_type": "execute_result"
    },
    {
     "data": {
      "image/png": "[encoded data removed]",
      "text/plain": [
       "<Figure size 432x288 with 1 Axes>"
      ]
     },
     "metadata": {},
     "output_type": "display_data"
    }
   ],
   "source": [
    "sns.boxplot(y='Day', x='Hour',data=df, whis='range')\n",
    "#During sunday varies more\n",
    "#maybe because during the weekend is out of the rutine"
   ]
  },
  {
   "cell_type": "code",
   "execution_count": null,
   "metadata": {},
   "outputs": [],
   "source": []
  }
 ],
 "metadata": {
  "kernelspec": {
   "display_name": "Python 3",
   "language": "python",
   "name": "python3"
  },
  "language_info": {
   "codemirror_mode": {
    "name": "ipython",
    "version": 3
   },
   "file_extension": ".py",
   "mimetype": "text/x-python",
   "name": "python",
   "nbconvert_exporter": "python",
   "pygments_lexer": "ipython3",
   "version": "3.6.5"
  }
 },
 "nbformat": 4,
 "nbformat_minor": 2
}
